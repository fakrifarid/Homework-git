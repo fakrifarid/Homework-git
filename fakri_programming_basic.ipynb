{
  "nbformat": 4,
  "nbformat_minor": 0,
  "metadata": {
    "colab": {
      "name": "fakri-programming_basic.ipynb",
      "provenance": []
    },
    "kernelspec": {
      "name": "python3",
      "display_name": "Python 3"
    },
    "language_info": {
      "name": "python"
    }
  },
  "cells": [
    {
      "cell_type": "code",
      "metadata": {
        "colab": {
          "base_uri": "https://localhost:8080/"
        },
        "id": "CJLT20gN_31L",
        "outputId": "212399a1-ff00-4d1d-a40c-934bdc786aba"
      },
      "source": [
        "!pip install requests"
      ],
      "execution_count": 3,
      "outputs": [
        {
          "output_type": "stream",
          "name": "stdout",
          "text": [
            "Requirement already satisfied: requests in /usr/local/lib/python3.7/dist-packages (2.23.0)\n",
            "Requirement already satisfied: certifi>=2017.4.17 in /usr/local/lib/python3.7/dist-packages (from requests) (2021.10.8)\n",
            "Requirement already satisfied: urllib3!=1.25.0,!=1.25.1,<1.26,>=1.21.1 in /usr/local/lib/python3.7/dist-packages (from requests) (1.24.3)\n",
            "Requirement already satisfied: idna<3,>=2.5 in /usr/local/lib/python3.7/dist-packages (from requests) (2.10)\n",
            "Requirement already satisfied: chardet<4,>=3.0.2 in /usr/local/lib/python3.7/dist-packages (from requests) (3.0.4)\n"
          ]
        }
      ]
    },
    {
      "cell_type": "code",
      "metadata": {
        "id": "s1GDiTxwA4BP"
      },
      "source": [
        "import requests"
      ],
      "execution_count": 4,
      "outputs": []
    },
    {
      "cell_type": "code",
      "metadata": {
        "colab": {
          "base_uri": "https://localhost:8080/"
        },
        "id": "oK02AL3CBIxt",
        "outputId": "91067856-cba8-4ae0-b78a-d52adb63cb13"
      },
      "source": [
        "fetch_data = requests.get('https://jsonplaceholder.typicode.com/users')\n",
        "\n",
        "print(fetch_data)"
      ],
      "execution_count": 5,
      "outputs": [
        {
          "output_type": "stream",
          "name": "stdout",
          "text": [
            "<Response [200]>\n"
          ]
        }
      ]
    },
    {
      "cell_type": "code",
      "metadata": {
        "colab": {
          "base_uri": "https://localhost:8080/"
        },
        "id": "kSwIUh0FBuZ2",
        "outputId": "eb27f9ad-627a-4f5f-c8d8-4e472ed81b1c"
      },
      "source": [
        "users = fetch_data.json()\n",
        "\n",
        "print(users)"
      ],
      "execution_count": 6,
      "outputs": [
        {
          "output_type": "stream",
          "name": "stdout",
          "text": [
            "[{'id': 1, 'name': 'Leanne Graham', 'username': 'Bret', 'email': 'Sincere@april.biz', 'address': {'street': 'Kulas Light', 'suite': 'Apt. 556', 'city': 'Gwenborough', 'zipcode': '92998-3874', 'geo': {'lat': '-37.3159', 'lng': '81.1496'}}, 'phone': '1-770-736-8031 x56442', 'website': 'hildegard.org', 'company': {'name': 'Romaguera-Crona', 'catchPhrase': 'Multi-layered client-server neural-net', 'bs': 'harness real-time e-markets'}}, {'id': 2, 'name': 'Ervin Howell', 'username': 'Antonette', 'email': 'Shanna@melissa.tv', 'address': {'street': 'Victor Plains', 'suite': 'Suite 879', 'city': 'Wisokyburgh', 'zipcode': '90566-7771', 'geo': {'lat': '-43.9509', 'lng': '-34.4618'}}, 'phone': '010-692-6593 x09125', 'website': 'anastasia.net', 'company': {'name': 'Deckow-Crist', 'catchPhrase': 'Proactive didactic contingency', 'bs': 'synergize scalable supply-chains'}}, {'id': 3, 'name': 'Clementine Bauch', 'username': 'Samantha', 'email': 'Nathan@yesenia.net', 'address': {'street': 'Douglas Extension', 'suite': 'Suite 847', 'city': 'McKenziehaven', 'zipcode': '59590-4157', 'geo': {'lat': '-68.6102', 'lng': '-47.0653'}}, 'phone': '1-463-123-4447', 'website': 'ramiro.info', 'company': {'name': 'Romaguera-Jacobson', 'catchPhrase': 'Face to face bifurcated interface', 'bs': 'e-enable strategic applications'}}, {'id': 4, 'name': 'Patricia Lebsack', 'username': 'Karianne', 'email': 'Julianne.OConner@kory.org', 'address': {'street': 'Hoeger Mall', 'suite': 'Apt. 692', 'city': 'South Elvis', 'zipcode': '53919-4257', 'geo': {'lat': '29.4572', 'lng': '-164.2990'}}, 'phone': '493-170-9623 x156', 'website': 'kale.biz', 'company': {'name': 'Robel-Corkery', 'catchPhrase': 'Multi-tiered zero tolerance productivity', 'bs': 'transition cutting-edge web services'}}, {'id': 5, 'name': 'Chelsey Dietrich', 'username': 'Kamren', 'email': 'Lucio_Hettinger@annie.ca', 'address': {'street': 'Skiles Walks', 'suite': 'Suite 351', 'city': 'Roscoeview', 'zipcode': '33263', 'geo': {'lat': '-31.8129', 'lng': '62.5342'}}, 'phone': '(254)954-1289', 'website': 'demarco.info', 'company': {'name': 'Keebler LLC', 'catchPhrase': 'User-centric fault-tolerant solution', 'bs': 'revolutionize end-to-end systems'}}, {'id': 6, 'name': 'Mrs. Dennis Schulist', 'username': 'Leopoldo_Corkery', 'email': 'Karley_Dach@jasper.info', 'address': {'street': 'Norberto Crossing', 'suite': 'Apt. 950', 'city': 'South Christy', 'zipcode': '23505-1337', 'geo': {'lat': '-71.4197', 'lng': '71.7478'}}, 'phone': '1-477-935-8478 x6430', 'website': 'ola.org', 'company': {'name': 'Considine-Lockman', 'catchPhrase': 'Synchronised bottom-line interface', 'bs': 'e-enable innovative applications'}}, {'id': 7, 'name': 'Kurtis Weissnat', 'username': 'Elwyn.Skiles', 'email': 'Telly.Hoeger@billy.biz', 'address': {'street': 'Rex Trail', 'suite': 'Suite 280', 'city': 'Howemouth', 'zipcode': '58804-1099', 'geo': {'lat': '24.8918', 'lng': '21.8984'}}, 'phone': '210.067.6132', 'website': 'elvis.io', 'company': {'name': 'Johns Group', 'catchPhrase': 'Configurable multimedia task-force', 'bs': 'generate enterprise e-tailers'}}, {'id': 8, 'name': 'Nicholas Runolfsdottir V', 'username': 'Maxime_Nienow', 'email': 'Sherwood@rosamond.me', 'address': {'street': 'Ellsworth Summit', 'suite': 'Suite 729', 'city': 'Aliyaview', 'zipcode': '45169', 'geo': {'lat': '-14.3990', 'lng': '-120.7677'}}, 'phone': '586.493.6943 x140', 'website': 'jacynthe.com', 'company': {'name': 'Abernathy Group', 'catchPhrase': 'Implemented secondary concept', 'bs': 'e-enable extensible e-tailers'}}, {'id': 9, 'name': 'Glenna Reichert', 'username': 'Delphine', 'email': 'Chaim_McDermott@dana.io', 'address': {'street': 'Dayna Park', 'suite': 'Suite 449', 'city': 'Bartholomebury', 'zipcode': '76495-3109', 'geo': {'lat': '24.6463', 'lng': '-168.8889'}}, 'phone': '(775)976-6794 x41206', 'website': 'conrad.com', 'company': {'name': 'Yost and Sons', 'catchPhrase': 'Switchable contextually-based project', 'bs': 'aggregate real-time technologies'}}, {'id': 10, 'name': 'Clementina DuBuque', 'username': 'Moriah.Stanton', 'email': 'Rey.Padberg@karina.biz', 'address': {'street': 'Kattie Turnpike', 'suite': 'Suite 198', 'city': 'Lebsackbury', 'zipcode': '31428-2261', 'geo': {'lat': '-38.2386', 'lng': '57.2232'}}, 'phone': '024-648-3804', 'website': 'ambrose.net', 'company': {'name': 'Hoeger LLC', 'catchPhrase': 'Centralized empowering task-force', 'bs': 'target end-to-end models'}}]\n"
          ]
        }
      ]
    },
    {
      "cell_type": "code",
      "metadata": {
        "colab": {
          "base_uri": "https://localhost:8080/"
        },
        "id": "U0ElZ2XUC531",
        "outputId": "27ca5837-1a6b-4489-9ed4-ca98a1aa43b0"
      },
      "source": [
        "print(type(users))"
      ],
      "execution_count": 8,
      "outputs": [
        {
          "output_type": "stream",
          "name": "stdout",
          "text": [
            "<class 'list'>\n"
          ]
        }
      ]
    },
    {
      "cell_type": "code",
      "metadata": {
        "colab": {
          "base_uri": "https://localhost:8080/"
        },
        "id": "XWu0UKqaCCS5",
        "outputId": "87af23ef-3611-460f-e127-5d35189982de"
      },
      "source": [
        "users"
      ],
      "execution_count": 7,
      "outputs": [
        {
          "output_type": "execute_result",
          "data": {
            "text/plain": [
              "[{'address': {'city': 'Gwenborough',\n",
              "   'geo': {'lat': '-37.3159', 'lng': '81.1496'},\n",
              "   'street': 'Kulas Light',\n",
              "   'suite': 'Apt. 556',\n",
              "   'zipcode': '92998-3874'},\n",
              "  'company': {'bs': 'harness real-time e-markets',\n",
              "   'catchPhrase': 'Multi-layered client-server neural-net',\n",
              "   'name': 'Romaguera-Crona'},\n",
              "  'email': 'Sincere@april.biz',\n",
              "  'id': 1,\n",
              "  'name': 'Leanne Graham',\n",
              "  'phone': '1-770-736-8031 x56442',\n",
              "  'username': 'Bret',\n",
              "  'website': 'hildegard.org'},\n",
              " {'address': {'city': 'Wisokyburgh',\n",
              "   'geo': {'lat': '-43.9509', 'lng': '-34.4618'},\n",
              "   'street': 'Victor Plains',\n",
              "   'suite': 'Suite 879',\n",
              "   'zipcode': '90566-7771'},\n",
              "  'company': {'bs': 'synergize scalable supply-chains',\n",
              "   'catchPhrase': 'Proactive didactic contingency',\n",
              "   'name': 'Deckow-Crist'},\n",
              "  'email': 'Shanna@melissa.tv',\n",
              "  'id': 2,\n",
              "  'name': 'Ervin Howell',\n",
              "  'phone': '010-692-6593 x09125',\n",
              "  'username': 'Antonette',\n",
              "  'website': 'anastasia.net'},\n",
              " {'address': {'city': 'McKenziehaven',\n",
              "   'geo': {'lat': '-68.6102', 'lng': '-47.0653'},\n",
              "   'street': 'Douglas Extension',\n",
              "   'suite': 'Suite 847',\n",
              "   'zipcode': '59590-4157'},\n",
              "  'company': {'bs': 'e-enable strategic applications',\n",
              "   'catchPhrase': 'Face to face bifurcated interface',\n",
              "   'name': 'Romaguera-Jacobson'},\n",
              "  'email': 'Nathan@yesenia.net',\n",
              "  'id': 3,\n",
              "  'name': 'Clementine Bauch',\n",
              "  'phone': '1-463-123-4447',\n",
              "  'username': 'Samantha',\n",
              "  'website': 'ramiro.info'},\n",
              " {'address': {'city': 'South Elvis',\n",
              "   'geo': {'lat': '29.4572', 'lng': '-164.2990'},\n",
              "   'street': 'Hoeger Mall',\n",
              "   'suite': 'Apt. 692',\n",
              "   'zipcode': '53919-4257'},\n",
              "  'company': {'bs': 'transition cutting-edge web services',\n",
              "   'catchPhrase': 'Multi-tiered zero tolerance productivity',\n",
              "   'name': 'Robel-Corkery'},\n",
              "  'email': 'Julianne.OConner@kory.org',\n",
              "  'id': 4,\n",
              "  'name': 'Patricia Lebsack',\n",
              "  'phone': '493-170-9623 x156',\n",
              "  'username': 'Karianne',\n",
              "  'website': 'kale.biz'},\n",
              " {'address': {'city': 'Roscoeview',\n",
              "   'geo': {'lat': '-31.8129', 'lng': '62.5342'},\n",
              "   'street': 'Skiles Walks',\n",
              "   'suite': 'Suite 351',\n",
              "   'zipcode': '33263'},\n",
              "  'company': {'bs': 'revolutionize end-to-end systems',\n",
              "   'catchPhrase': 'User-centric fault-tolerant solution',\n",
              "   'name': 'Keebler LLC'},\n",
              "  'email': 'Lucio_Hettinger@annie.ca',\n",
              "  'id': 5,\n",
              "  'name': 'Chelsey Dietrich',\n",
              "  'phone': '(254)954-1289',\n",
              "  'username': 'Kamren',\n",
              "  'website': 'demarco.info'},\n",
              " {'address': {'city': 'South Christy',\n",
              "   'geo': {'lat': '-71.4197', 'lng': '71.7478'},\n",
              "   'street': 'Norberto Crossing',\n",
              "   'suite': 'Apt. 950',\n",
              "   'zipcode': '23505-1337'},\n",
              "  'company': {'bs': 'e-enable innovative applications',\n",
              "   'catchPhrase': 'Synchronised bottom-line interface',\n",
              "   'name': 'Considine-Lockman'},\n",
              "  'email': 'Karley_Dach@jasper.info',\n",
              "  'id': 6,\n",
              "  'name': 'Mrs. Dennis Schulist',\n",
              "  'phone': '1-477-935-8478 x6430',\n",
              "  'username': 'Leopoldo_Corkery',\n",
              "  'website': 'ola.org'},\n",
              " {'address': {'city': 'Howemouth',\n",
              "   'geo': {'lat': '24.8918', 'lng': '21.8984'},\n",
              "   'street': 'Rex Trail',\n",
              "   'suite': 'Suite 280',\n",
              "   'zipcode': '58804-1099'},\n",
              "  'company': {'bs': 'generate enterprise e-tailers',\n",
              "   'catchPhrase': 'Configurable multimedia task-force',\n",
              "   'name': 'Johns Group'},\n",
              "  'email': 'Telly.Hoeger@billy.biz',\n",
              "  'id': 7,\n",
              "  'name': 'Kurtis Weissnat',\n",
              "  'phone': '210.067.6132',\n",
              "  'username': 'Elwyn.Skiles',\n",
              "  'website': 'elvis.io'},\n",
              " {'address': {'city': 'Aliyaview',\n",
              "   'geo': {'lat': '-14.3990', 'lng': '-120.7677'},\n",
              "   'street': 'Ellsworth Summit',\n",
              "   'suite': 'Suite 729',\n",
              "   'zipcode': '45169'},\n",
              "  'company': {'bs': 'e-enable extensible e-tailers',\n",
              "   'catchPhrase': 'Implemented secondary concept',\n",
              "   'name': 'Abernathy Group'},\n",
              "  'email': 'Sherwood@rosamond.me',\n",
              "  'id': 8,\n",
              "  'name': 'Nicholas Runolfsdottir V',\n",
              "  'phone': '586.493.6943 x140',\n",
              "  'username': 'Maxime_Nienow',\n",
              "  'website': 'jacynthe.com'},\n",
              " {'address': {'city': 'Bartholomebury',\n",
              "   'geo': {'lat': '24.6463', 'lng': '-168.8889'},\n",
              "   'street': 'Dayna Park',\n",
              "   'suite': 'Suite 449',\n",
              "   'zipcode': '76495-3109'},\n",
              "  'company': {'bs': 'aggregate real-time technologies',\n",
              "   'catchPhrase': 'Switchable contextually-based project',\n",
              "   'name': 'Yost and Sons'},\n",
              "  'email': 'Chaim_McDermott@dana.io',\n",
              "  'id': 9,\n",
              "  'name': 'Glenna Reichert',\n",
              "  'phone': '(775)976-6794 x41206',\n",
              "  'username': 'Delphine',\n",
              "  'website': 'conrad.com'},\n",
              " {'address': {'city': 'Lebsackbury',\n",
              "   'geo': {'lat': '-38.2386', 'lng': '57.2232'},\n",
              "   'street': 'Kattie Turnpike',\n",
              "   'suite': 'Suite 198',\n",
              "   'zipcode': '31428-2261'},\n",
              "  'company': {'bs': 'target end-to-end models',\n",
              "   'catchPhrase': 'Centralized empowering task-force',\n",
              "   'name': 'Hoeger LLC'},\n",
              "  'email': 'Rey.Padberg@karina.biz',\n",
              "  'id': 10,\n",
              "  'name': 'Clementina DuBuque',\n",
              "  'phone': '024-648-3804',\n",
              "  'username': 'Moriah.Stanton',\n",
              "  'website': 'ambrose.net'}]"
            ]
          },
          "metadata": {},
          "execution_count": 7
        }
      ]
    },
    {
      "cell_type": "code",
      "metadata": {
        "colab": {
          "base_uri": "https://localhost:8080/"
        },
        "id": "jRZhbDCdEJcL",
        "outputId": "5a7eadb5-b577-47a4-d823-5b6fea7db9f6"
      },
      "source": [
        "selected_users = users [2:7]\n",
        "\n",
        "print(selected_users)"
      ],
      "execution_count": 9,
      "outputs": [
        {
          "output_type": "stream",
          "name": "stdout",
          "text": [
            "[{'id': 3, 'name': 'Clementine Bauch', 'username': 'Samantha', 'email': 'Nathan@yesenia.net', 'address': {'street': 'Douglas Extension', 'suite': 'Suite 847', 'city': 'McKenziehaven', 'zipcode': '59590-4157', 'geo': {'lat': '-68.6102', 'lng': '-47.0653'}}, 'phone': '1-463-123-4447', 'website': 'ramiro.info', 'company': {'name': 'Romaguera-Jacobson', 'catchPhrase': 'Face to face bifurcated interface', 'bs': 'e-enable strategic applications'}}, {'id': 4, 'name': 'Patricia Lebsack', 'username': 'Karianne', 'email': 'Julianne.OConner@kory.org', 'address': {'street': 'Hoeger Mall', 'suite': 'Apt. 692', 'city': 'South Elvis', 'zipcode': '53919-4257', 'geo': {'lat': '29.4572', 'lng': '-164.2990'}}, 'phone': '493-170-9623 x156', 'website': 'kale.biz', 'company': {'name': 'Robel-Corkery', 'catchPhrase': 'Multi-tiered zero tolerance productivity', 'bs': 'transition cutting-edge web services'}}, {'id': 5, 'name': 'Chelsey Dietrich', 'username': 'Kamren', 'email': 'Lucio_Hettinger@annie.ca', 'address': {'street': 'Skiles Walks', 'suite': 'Suite 351', 'city': 'Roscoeview', 'zipcode': '33263', 'geo': {'lat': '-31.8129', 'lng': '62.5342'}}, 'phone': '(254)954-1289', 'website': 'demarco.info', 'company': {'name': 'Keebler LLC', 'catchPhrase': 'User-centric fault-tolerant solution', 'bs': 'revolutionize end-to-end systems'}}, {'id': 6, 'name': 'Mrs. Dennis Schulist', 'username': 'Leopoldo_Corkery', 'email': 'Karley_Dach@jasper.info', 'address': {'street': 'Norberto Crossing', 'suite': 'Apt. 950', 'city': 'South Christy', 'zipcode': '23505-1337', 'geo': {'lat': '-71.4197', 'lng': '71.7478'}}, 'phone': '1-477-935-8478 x6430', 'website': 'ola.org', 'company': {'name': 'Considine-Lockman', 'catchPhrase': 'Synchronised bottom-line interface', 'bs': 'e-enable innovative applications'}}, {'id': 7, 'name': 'Kurtis Weissnat', 'username': 'Elwyn.Skiles', 'email': 'Telly.Hoeger@billy.biz', 'address': {'street': 'Rex Trail', 'suite': 'Suite 280', 'city': 'Howemouth', 'zipcode': '58804-1099', 'geo': {'lat': '24.8918', 'lng': '21.8984'}}, 'phone': '210.067.6132', 'website': 'elvis.io', 'company': {'name': 'Johns Group', 'catchPhrase': 'Configurable multimedia task-force', 'bs': 'generate enterprise e-tailers'}}]\n"
          ]
        }
      ]
    },
    {
      "cell_type": "code",
      "metadata": {
        "colab": {
          "base_uri": "https://localhost:8080/"
        },
        "id": "C22CIRCQEWW0",
        "outputId": "a816ff90-1b67-4c72-8e73-94c6f513379b"
      },
      "source": [
        "selected_users"
      ],
      "execution_count": 10,
      "outputs": [
        {
          "output_type": "execute_result",
          "data": {
            "text/plain": [
              "[{'address': {'city': 'McKenziehaven',\n",
              "   'geo': {'lat': '-68.6102', 'lng': '-47.0653'},\n",
              "   'street': 'Douglas Extension',\n",
              "   'suite': 'Suite 847',\n",
              "   'zipcode': '59590-4157'},\n",
              "  'company': {'bs': 'e-enable strategic applications',\n",
              "   'catchPhrase': 'Face to face bifurcated interface',\n",
              "   'name': 'Romaguera-Jacobson'},\n",
              "  'email': 'Nathan@yesenia.net',\n",
              "  'id': 3,\n",
              "  'name': 'Clementine Bauch',\n",
              "  'phone': '1-463-123-4447',\n",
              "  'username': 'Samantha',\n",
              "  'website': 'ramiro.info'},\n",
              " {'address': {'city': 'South Elvis',\n",
              "   'geo': {'lat': '29.4572', 'lng': '-164.2990'},\n",
              "   'street': 'Hoeger Mall',\n",
              "   'suite': 'Apt. 692',\n",
              "   'zipcode': '53919-4257'},\n",
              "  'company': {'bs': 'transition cutting-edge web services',\n",
              "   'catchPhrase': 'Multi-tiered zero tolerance productivity',\n",
              "   'name': 'Robel-Corkery'},\n",
              "  'email': 'Julianne.OConner@kory.org',\n",
              "  'id': 4,\n",
              "  'name': 'Patricia Lebsack',\n",
              "  'phone': '493-170-9623 x156',\n",
              "  'username': 'Karianne',\n",
              "  'website': 'kale.biz'},\n",
              " {'address': {'city': 'Roscoeview',\n",
              "   'geo': {'lat': '-31.8129', 'lng': '62.5342'},\n",
              "   'street': 'Skiles Walks',\n",
              "   'suite': 'Suite 351',\n",
              "   'zipcode': '33263'},\n",
              "  'company': {'bs': 'revolutionize end-to-end systems',\n",
              "   'catchPhrase': 'User-centric fault-tolerant solution',\n",
              "   'name': 'Keebler LLC'},\n",
              "  'email': 'Lucio_Hettinger@annie.ca',\n",
              "  'id': 5,\n",
              "  'name': 'Chelsey Dietrich',\n",
              "  'phone': '(254)954-1289',\n",
              "  'username': 'Kamren',\n",
              "  'website': 'demarco.info'},\n",
              " {'address': {'city': 'South Christy',\n",
              "   'geo': {'lat': '-71.4197', 'lng': '71.7478'},\n",
              "   'street': 'Norberto Crossing',\n",
              "   'suite': 'Apt. 950',\n",
              "   'zipcode': '23505-1337'},\n",
              "  'company': {'bs': 'e-enable innovative applications',\n",
              "   'catchPhrase': 'Synchronised bottom-line interface',\n",
              "   'name': 'Considine-Lockman'},\n",
              "  'email': 'Karley_Dach@jasper.info',\n",
              "  'id': 6,\n",
              "  'name': 'Mrs. Dennis Schulist',\n",
              "  'phone': '1-477-935-8478 x6430',\n",
              "  'username': 'Leopoldo_Corkery',\n",
              "  'website': 'ola.org'},\n",
              " {'address': {'city': 'Howemouth',\n",
              "   'geo': {'lat': '24.8918', 'lng': '21.8984'},\n",
              "   'street': 'Rex Trail',\n",
              "   'suite': 'Suite 280',\n",
              "   'zipcode': '58804-1099'},\n",
              "  'company': {'bs': 'generate enterprise e-tailers',\n",
              "   'catchPhrase': 'Configurable multimedia task-force',\n",
              "   'name': 'Johns Group'},\n",
              "  'email': 'Telly.Hoeger@billy.biz',\n",
              "  'id': 7,\n",
              "  'name': 'Kurtis Weissnat',\n",
              "  'phone': '210.067.6132',\n",
              "  'username': 'Elwyn.Skiles',\n",
              "  'website': 'elvis.io'}]"
            ]
          },
          "metadata": {},
          "execution_count": 10
        }
      ]
    },
    {
      "cell_type": "code",
      "metadata": {
        "id": "r6GgzU0SEYfi"
      },
      "source": [
        "del selected_users[1]"
      ],
      "execution_count": 11,
      "outputs": []
    },
    {
      "cell_type": "code",
      "metadata": {
        "colab": {
          "base_uri": "https://localhost:8080/"
        },
        "id": "wJOB824sEz2U",
        "outputId": "393716c4-bf15-40d3-ff78-84784b2f74da"
      },
      "source": [
        "selected_users"
      ],
      "execution_count": 12,
      "outputs": [
        {
          "output_type": "execute_result",
          "data": {
            "text/plain": [
              "[{'address': {'city': 'McKenziehaven',\n",
              "   'geo': {'lat': '-68.6102', 'lng': '-47.0653'},\n",
              "   'street': 'Douglas Extension',\n",
              "   'suite': 'Suite 847',\n",
              "   'zipcode': '59590-4157'},\n",
              "  'company': {'bs': 'e-enable strategic applications',\n",
              "   'catchPhrase': 'Face to face bifurcated interface',\n",
              "   'name': 'Romaguera-Jacobson'},\n",
              "  'email': 'Nathan@yesenia.net',\n",
              "  'id': 3,\n",
              "  'name': 'Clementine Bauch',\n",
              "  'phone': '1-463-123-4447',\n",
              "  'username': 'Samantha',\n",
              "  'website': 'ramiro.info'},\n",
              " {'address': {'city': 'Roscoeview',\n",
              "   'geo': {'lat': '-31.8129', 'lng': '62.5342'},\n",
              "   'street': 'Skiles Walks',\n",
              "   'suite': 'Suite 351',\n",
              "   'zipcode': '33263'},\n",
              "  'company': {'bs': 'revolutionize end-to-end systems',\n",
              "   'catchPhrase': 'User-centric fault-tolerant solution',\n",
              "   'name': 'Keebler LLC'},\n",
              "  'email': 'Lucio_Hettinger@annie.ca',\n",
              "  'id': 5,\n",
              "  'name': 'Chelsey Dietrich',\n",
              "  'phone': '(254)954-1289',\n",
              "  'username': 'Kamren',\n",
              "  'website': 'demarco.info'},\n",
              " {'address': {'city': 'South Christy',\n",
              "   'geo': {'lat': '-71.4197', 'lng': '71.7478'},\n",
              "   'street': 'Norberto Crossing',\n",
              "   'suite': 'Apt. 950',\n",
              "   'zipcode': '23505-1337'},\n",
              "  'company': {'bs': 'e-enable innovative applications',\n",
              "   'catchPhrase': 'Synchronised bottom-line interface',\n",
              "   'name': 'Considine-Lockman'},\n",
              "  'email': 'Karley_Dach@jasper.info',\n",
              "  'id': 6,\n",
              "  'name': 'Mrs. Dennis Schulist',\n",
              "  'phone': '1-477-935-8478 x6430',\n",
              "  'username': 'Leopoldo_Corkery',\n",
              "  'website': 'ola.org'},\n",
              " {'address': {'city': 'Howemouth',\n",
              "   'geo': {'lat': '24.8918', 'lng': '21.8984'},\n",
              "   'street': 'Rex Trail',\n",
              "   'suite': 'Suite 280',\n",
              "   'zipcode': '58804-1099'},\n",
              "  'company': {'bs': 'generate enterprise e-tailers',\n",
              "   'catchPhrase': 'Configurable multimedia task-force',\n",
              "   'name': 'Johns Group'},\n",
              "  'email': 'Telly.Hoeger@billy.biz',\n",
              "  'id': 7,\n",
              "  'name': 'Kurtis Weissnat',\n",
              "  'phone': '210.067.6132',\n",
              "  'username': 'Elwyn.Skiles',\n",
              "  'website': 'elvis.io'}]"
            ]
          },
          "metadata": {},
          "execution_count": 12
        }
      ]
    },
    {
      "cell_type": "code",
      "metadata": {
        "id": "8gThTU5nE1fc"
      },
      "source": [
        ""
      ],
      "execution_count": null,
      "outputs": []
    }
  ]
}